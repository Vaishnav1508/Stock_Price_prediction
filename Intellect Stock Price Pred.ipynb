{
 "cells": [
  {
   "cell_type": "code",
   "execution_count": 1,
   "metadata": {},
   "outputs": [],
   "source": [
    "import pandas as pd\n",
    "import numpy as np\n",
    "import matplotlib.pyplot as plt\n",
    "# %matplotlib inline\n",
    "import tensorflow as tf\n",
    "import keras\n",
    "from keras.models import Sequential\n",
    "from keras.layers import Dense, LSTM"
   ]
  },
  {
   "cell_type": "code",
   "execution_count": 101,
   "metadata": {},
   "outputs": [],
   "source": [
    "data_set = pd.read_csv('INTELLECT.csv', na_values='ND')"
   ]
  },
  {
   "cell_type": "code",
   "execution_count": 102,
   "metadata": {},
   "outputs": [
    {
     "data": {
      "text/plain": [
       "(1513, 7)"
      ]
     },
     "execution_count": 102,
     "metadata": {},
     "output_type": "execute_result"
    }
   ],
   "source": [
    "data_set.shape"
   ]
  },
  {
   "cell_type": "code",
   "execution_count": 103,
   "metadata": {},
   "outputs": [
    {
     "data": {
      "text/html": [
       "<div>\n",
       "<style scoped>\n",
       "    .dataframe tbody tr th:only-of-type {\n",
       "        vertical-align: middle;\n",
       "    }\n",
       "\n",
       "    .dataframe tbody tr th {\n",
       "        vertical-align: top;\n",
       "    }\n",
       "\n",
       "    .dataframe thead th {\n",
       "        text-align: right;\n",
       "    }\n",
       "</style>\n",
       "<table border=\"1\" class=\"dataframe\">\n",
       "  <thead>\n",
       "    <tr style=\"text-align: right;\">\n",
       "      <th></th>\n",
       "      <th>Date</th>\n",
       "      <th>Open</th>\n",
       "      <th>High</th>\n",
       "      <th>Low</th>\n",
       "      <th>Close</th>\n",
       "      <th>Adj Close</th>\n",
       "      <th>Volume</th>\n",
       "    </tr>\n",
       "  </thead>\n",
       "  <tbody>\n",
       "    <tr>\n",
       "      <th>0</th>\n",
       "      <td>12/18/2014</td>\n",
       "      <td>64.870583</td>\n",
       "      <td>68.102409</td>\n",
       "      <td>64.870583</td>\n",
       "      <td>68.102409</td>\n",
       "      <td>68.102409</td>\n",
       "      <td>947441</td>\n",
       "    </tr>\n",
       "    <tr>\n",
       "      <th>1</th>\n",
       "      <td>12/19/2014</td>\n",
       "      <td>71.474739</td>\n",
       "      <td>71.474739</td>\n",
       "      <td>71.474739</td>\n",
       "      <td>71.474739</td>\n",
       "      <td>71.474739</td>\n",
       "      <td>64601</td>\n",
       "    </tr>\n",
       "    <tr>\n",
       "      <th>2</th>\n",
       "      <td>12/22/2014</td>\n",
       "      <td>75.034424</td>\n",
       "      <td>75.034424</td>\n",
       "      <td>69.507545</td>\n",
       "      <td>70.819008</td>\n",
       "      <td>70.819008</td>\n",
       "      <td>8076062</td>\n",
       "    </tr>\n",
       "    <tr>\n",
       "      <th>3</th>\n",
       "      <td>12/23/2014</td>\n",
       "      <td>71.193710</td>\n",
       "      <td>74.331856</td>\n",
       "      <td>67.306160</td>\n",
       "      <td>68.008728</td>\n",
       "      <td>68.008728</td>\n",
       "      <td>18978143</td>\n",
       "    </tr>\n",
       "    <tr>\n",
       "      <th>4</th>\n",
       "      <td>12/24/2014</td>\n",
       "      <td>67.493515</td>\n",
       "      <td>71.381065</td>\n",
       "      <td>66.697266</td>\n",
       "      <td>71.381065</td>\n",
       "      <td>71.381065</td>\n",
       "      <td>905139</td>\n",
       "    </tr>\n",
       "  </tbody>\n",
       "</table>\n",
       "</div>"
      ],
      "text/plain": [
       "         Date       Open       High        Low      Close  Adj Close    Volume\n",
       "0  12/18/2014  64.870583  68.102409  64.870583  68.102409  68.102409    947441\n",
       "1  12/19/2014  71.474739  71.474739  71.474739  71.474739  71.474739     64601\n",
       "2  12/22/2014  75.034424  75.034424  69.507545  70.819008  70.819008   8076062\n",
       "3  12/23/2014  71.193710  74.331856  67.306160  68.008728  68.008728  18978143\n",
       "4  12/24/2014  67.493515  71.381065  66.697266  71.381065  71.381065    905139"
      ]
     },
     "execution_count": 103,
     "metadata": {},
     "output_type": "execute_result"
    }
   ],
   "source": [
    "data_set.head()"
   ]
  },
  {
   "cell_type": "code",
   "execution_count": 105,
   "metadata": {},
   "outputs": [
    {
     "data": {
      "text/plain": [
       "[<matplotlib.lines.Line2D at 0x20475125e50>]"
      ]
     },
     "execution_count": 105,
     "metadata": {},
     "output_type": "execute_result"
    },
    {
     "data": {
      "image/png": "[encoded data removed]",
      "text/plain": [
       "<Figure size 432x288 with 1 Axes>"
      ]
     },
     "metadata": {
      "needs_background": "light"
     },
     "output_type": "display_data"
    }
   ],
   "source": [
    "plt.plot(data_set['Adj Close'])"
   ]
  },
  {
   "cell_type": "code",
   "execution_count": 131,
   "metadata": {},
   "outputs": [],
   "source": [
    "df=data_set['Adj Close']"
   ]
  },
  {
   "cell_type": "code",
   "execution_count": 120,
   "metadata": {},
   "outputs": [
    {
     "data": {
      "text/plain": [
       "0        68.102409\n",
       "1        71.474739\n",
       "2        70.819008\n",
       "3        68.008728\n",
       "4        71.381065\n",
       "           ...    \n",
       "1508    362.149994\n",
       "1509    380.250000\n",
       "1510    399.250000\n",
       "1511    450.100006\n",
       "1512    480.100006\n",
       "Name: Adj Close, Length: 1513, dtype: float64"
      ]
     },
     "execution_count": 120,
     "metadata": {},
     "output_type": "execute_result"
    }
   ],
   "source": [
    "df"
   ]
  },
  {
   "cell_type": "code",
   "execution_count": 132,
   "metadata": {},
   "outputs": [
    {
     "name": "stdout",
     "output_type": "stream",
     "text": [
      "[[0.05342311]\n",
      " [0.06117114]\n",
      " [0.05966458]\n",
      " ...\n",
      " [0.81424468]\n",
      " [0.9310741 ]\n",
      " [1.        ]]\n"
     ]
    }
   ],
   "source": [
    "df = np.array(df).reshape(-1,1)\n",
    "\n",
    "from sklearn.preprocessing import MinMaxScaler\n",
    "scaler = MinMaxScaler()\n",
    "\n",
    "df = scaler.fit_transform(df)\n",
    "\n",
    "print(df)"
   ]
  },
  {
   "cell_type": "code",
   "execution_count": 133,
   "metadata": {},
   "outputs": [
    {
     "name": "stdout",
     "output_type": "stream",
     "text": [
      "(1300, 1)\n",
      "(213, 1)\n"
     ]
    }
   ],
   "source": [
    "train = df[:1300]\n",
    "test = df[1300:]\n",
    "\n",
    "print(train.shape)\n",
    "print(test.shape)"
   ]
  },
  {
   "cell_type": "code",
   "execution_count": 134,
   "metadata": {},
   "outputs": [
    {
     "name": "stdout",
     "output_type": "stream",
     "text": [
      "[[0.05342311]\n",
      " [0.06117114]\n",
      " [0.05966458]\n",
      " ...\n",
      " [0.        ]\n",
      " [0.00505457]\n",
      " [0.01045377]]\n",
      "[0.06117114 0.05966458 0.05320788 ... 0.00505457 0.01045377 0.01608271]\n"
     ]
    }
   ],
   "source": [
    "def get_data(data, look_back):\n",
    "    data_x,  data_y = [],[]\n",
    "    for i in range(len(data)-look_back-1):\n",
    "            data_x.append(data[i:(i+look_back),0])\n",
    "            data_y.append(data[i+look_back,0])\n",
    "    return np.array(data_x) , np.array(data_y)\n",
    "\n",
    "look_back = 1\n",
    "\n",
    "x_train , y_train = get_data(train, look_back)\n",
    "\n",
    "print(x_train)\n",
    "print(y_train)"
   ]
  },
  {
   "cell_type": "code",
   "execution_count": 135,
   "metadata": {},
   "outputs": [
    {
     "name": "stdout",
     "output_type": "stream",
     "text": [
      "(211, 1)\n",
      "(211,)\n"
     ]
    }
   ],
   "source": [
    "x_test , y_test = get_data(test,look_back)\n",
    "\n",
    "print(x_test.shape)\n",
    "print(y_test.shape)\n"
   ]
  },
  {
   "cell_type": "code",
   "execution_count": 146,
   "metadata": {},
   "outputs": [
    {
     "name": "stdout",
     "output_type": "stream",
     "text": [
      "(1298, 1, 1)\n",
      "(211, 1, 1)\n"
     ]
    },
    {
     "data": {
      "text/plain": [
       "array([[[0.05342311]],\n",
       "\n",
       "       [[0.06117114]],\n",
       "\n",
       "       [[0.05966458]],\n",
       "\n",
       "       [[0.05320788]],\n",
       "\n",
       "       [[0.06095593]],\n",
       "\n",
       "       [[0.06913441]]])"
      ]
     },
     "execution_count": 146,
     "metadata": {},
     "output_type": "execute_result"
    }
   ],
   "source": [
    "x_train = x_train.reshape(x_train.shape[0],x_train.shape[1], 1)\n",
    "x_test = x_test.reshape(x_test.shape[0],x_test.shape[1], 1)\n",
    "\n",
    "print(x_train.shape)\n",
    "print(x_test.shape)"
   ]
  },
  {
   "cell_type": "code",
   "execution_count": 137,
   "metadata": {},
   "outputs": [
    {
     "name": "stdout",
     "output_type": "stream",
     "text": [
      "Model: \"sequential_11\"\n",
      "_________________________________________________________________\n",
      "Layer (type)                 Output Shape              Param #   \n",
      "=================================================================\n",
      "lstm_11 (LSTM)               (None, 100)               40800     \n",
      "_________________________________________________________________\n",
      "dense_11 (Dense)             (None, 1)                 101       \n",
      "=================================================================\n",
      "Total params: 40,901\n",
      "Trainable params: 40,901\n",
      "Non-trainable params: 0\n",
      "_________________________________________________________________\n"
     ]
    }
   ],
   "source": [
    "#Defining the LSTM model\n",
    "n_features=x_train.shape[1]\n",
    "\n",
    "model=Sequential()\n",
    "model.add(LSTM(100,activation='relu',input_shape=(1,1)))\n",
    "model.add(Dense(n_features))\n",
    "\n",
    "#Model summary\n",
    "model.summary()"
   ]
  },
  {
   "cell_type": "code",
   "execution_count": 138,
   "metadata": {},
   "outputs": [
    {
     "name": "stdout",
     "output_type": "stream",
     "text": [
      "Epoch 1/5\n",
      "1298/1298 [==============================] - 3s 1ms/step - loss: 0.0155\n",
      "Epoch 2/5\n",
      "1298/1298 [==============================] - 2s 1ms/step - loss: 2.4727e-04\n",
      "Epoch 3/5\n",
      "1298/1298 [==============================] - 2s 1ms/step - loss: 2.2652e-04\n",
      "Epoch 4/5\n",
      "1298/1298 [==============================] - 2s 1ms/step - loss: 2.4169e-04\n",
      "Epoch 5/5\n",
      "1298/1298 [==============================] - 2s 1ms/step - loss: 2.3114e-04\n"
     ]
    },
    {
     "data": {
      "text/plain": [
       "<tensorflow.python.keras.callbacks.History at 0x2047820b4f0>"
      ]
     },
     "execution_count": 138,
     "metadata": {},
     "output_type": "execute_result"
    }
   ],
   "source": [
    "#Compiling\n",
    "model.compile(optimizer='adam', loss = 'mse')\n",
    "\n",
    "#Training\n",
    "model.fit(x_train,y_train, epochs = 5, batch_size=1)\n"
   ]
  },
  {
   "cell_type": "code",
   "execution_count": 139,
   "metadata": {},
   "outputs": [
    {
     "name": "stdout",
     "output_type": "stream",
     "text": [
      "[[59.16705 ]\n",
      " [61.66512 ]\n",
      " [64.25982 ]\n",
      " [66.9963  ]\n",
      " [69.920425]\n",
      " [72.989716]\n",
      " [76.205826]\n",
      " [79.615456]\n",
      " [83.22099 ]\n",
      " [87.025024]]\n"
     ]
    }
   ],
   "source": [
    "#Prediction using the trained model\n",
    "scaler.scale_\n",
    "\n",
    "y_pred = model.predict(x_test)\n",
    "y_pred = scaler.inverse_transform(y_pred)\n",
    "print(y_pred[:10])\n"
   ]
  },
  {
   "cell_type": "code",
   "execution_count": 140,
   "metadata": {},
   "outputs": [
    {
     "name": "stdout",
     "output_type": "stream",
     "text": [
      "[[59.950001]\n",
      " [62.900002]\n",
      " [66.      ]\n",
      " [69.300003]\n",
      " [72.75    ]\n",
      " [76.349998]\n",
      " [80.150002]\n",
      " [84.150002]\n",
      " [88.349998]\n",
      " [83.949997]]\n"
     ]
    }
   ],
   "source": [
    "#Processing test shape\n",
    "y_test = np.array(y_test).reshape(-1,1)\n",
    "y_test = scaler.inverse_transform(y_test)\n",
    "print(y_test[:10])"
   ]
  },
  {
   "cell_type": "code",
   "execution_count": 148,
   "metadata": {},
   "outputs": [
    {
     "data": {
      "text/plain": [
       "<matplotlib.legend.Legend at 0x20479a60a30>"
      ]
     },
     "execution_count": 148,
     "metadata": {},
     "output_type": "execute_result"
    },
    {
     "data": {
      "image/png": "[encoded data removed]",
      "text/plain": [
       "<Figure size 720x360 with 1 Axes>"
      ]
     },
     "metadata": {
      "needs_background": "light"
     },
     "output_type": "display_data"
    }
   ],
   "source": [
    "plt.figure(figsize=(10,5))\n",
    "plt.title('INTELLECT STOCK PRICE PREDICTION-NSE')\n",
    "plt.plot(y_test , label = 'Actual', color = 'g')\n",
    "plt.plot(y_pred , label = 'Predicted', color = 'r')\n",
    "plt.legend()\n"
   ]
  },
  {
   "cell_type": "code",
   "execution_count": null,
   "metadata": {},
   "outputs": [],
   "source": []
  }
 ],
 "metadata": {
  "kernelspec": {
   "display_name": "Python 3",
   "language": "python",
   "name": "python3"
  },
  "language_info": {
   "codemirror_mode": {
    "name": "ipython",
    "version": 3
   },
   "file_extension": ".py",
   "mimetype": "text/x-python",
   "name": "python",
   "nbconvert_exporter": "python",
   "pygments_lexer": "ipython3",
   "version": "3.8.3"
  }
 },
 "nbformat": 4,
 "nbformat_minor": 4
}
